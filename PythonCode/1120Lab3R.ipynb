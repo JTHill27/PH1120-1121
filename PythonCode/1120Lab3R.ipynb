{
 "cells": [
  {
   "cell_type": "markdown",
   "metadata": {},
   "source": [
    "# 1120 Lab 3R\n",
    "This is written in Python 3"
   ]
  },
  {
   "cell_type": "code",
   "execution_count": 9,
   "metadata": {},
   "outputs": [],
   "source": [
    "import matplotlib.pyplot as plt\n",
    "import numpy as numpy"
   ]
  },
  {
   "cell_type": "code",
   "execution_count": 33,
   "metadata": {},
   "outputs": [],
   "source": [
    "#Data\n",
    "\n",
    "t = numpy.array([.53 ,.83 , 1.149 , 1.212 , 1.265 , 1.329 , 1.340 , 1.405 , 1.440 , 1.468 ]) #time in their units\n",
    "dt = (t-t[0]) * (10**(-4))\n",
    "#dt = t-t[0]\n",
    "v = numpy.array([4.9, 4.1 , 2.9 , 2.5 , 1.9 , 1.6 , 1.3 , 1.1 , 0.90 , 0.70 ]) #voltage in volts \n",
    "lnv = numpy.log(v) #natural log of the voltage"
   ]
  },
  {
   "cell_type": "code",
   "execution_count": 34,
   "metadata": {
    "scrolled": true
   },
   "outputs": [
    {
     "data": {
      "text/plain": [
       "[<matplotlib.lines.Line2D at 0x7f8850113080>]"
      ]
     },
     "execution_count": 34,
     "metadata": {},
     "output_type": "execute_result"
    },
    {
     "data": {
      "image/png": "[encoded data removed]",
      "text/plain": [
       "<Figure size 432x288 with 1 Axes>"
      ]
     },
     "metadata": {
      "needs_background": "light"
     },
     "output_type": "display_data"
    }
   ],
   "source": [
    "plt.plot(dt,v, 'ro') #uses matplotlib to plot voltage vs current\n"
   ]
  },
  {
   "cell_type": "code",
   "execution_count": 35,
   "metadata": {},
   "outputs": [
    {
     "data": {
      "text/plain": [
       "[<matplotlib.lines.Line2D at 0x7f88500de828>]"
      ]
     },
     "execution_count": 35,
     "metadata": {},
     "output_type": "execute_result"
    },
    {
     "data": {
      "image/png": "[encoded data removed]",
      "text/plain": [
       "<Figure size 432x288 with 1 Axes>"
      ]
     },
     "metadata": {
      "needs_background": "light"
     },
     "output_type": "display_data"
    }
   ],
   "source": [
    "plt.plot(dt,lnv, 'ro') #uses matplotlib to plot voltage vs current\n",
    "\n",
    "plt.xlim(0-.00001, dt[-1]+.0001)\n",
    "\n",
    "#plt.ylim(lnv[-1] - .1, lnv[0]+.1)\n",
    "\n",
    "plt.ylabel('ln(V) (V)')\n",
    "plt.xlabel('Time (seconds)')\n",
    "plt.title('things')\n",
    "\n",
    "m, b = numpy.polyfit(dt,lnv,1) #If linear looks like it's the line that fits best\n",
    "plt.plot(dt, m*dt + b)"
   ]
  },
  {
   "cell_type": "code",
   "execution_count": 36,
   "metadata": {},
   "outputs": [
    {
     "name": "stdout",
     "output_type": "stream",
     "text": [
      "The slope is:  -2001.2306101859829 so the equation of this line is ln(V) =  -2001.2306101859829 *I +  -0.08712017819197063\n"
     ]
    }
   ],
   "source": [
    "print('The slope is: ',m, 'so the equation of this line is ln(V) = ',m,'*I + ',b)\n",
    "#Please remember to use proper significant figures. "
   ]
  },
  {
   "cell_type": "markdown",
   "metadata": {},
   "source": [
    "R = 200 #Ohms resisistor\n",
    "\n",
    "Remember, m from above is our slope. So we know Slope = -1/RC, and we want to solve for C. Therefore we need to solve for C = - 1/ (m *R). "
   ]
  },
  {
   "cell_type": "code",
   "execution_count": 42,
   "metadata": {},
   "outputs": [
    {
     "name": "stdout",
     "output_type": "stream",
     "text": [
      "2.4984626831863864e-06 farads (should be on the order of 10^-6)\n"
     ]
    }
   ],
   "source": [
    "C = -1/(m*200)\n",
    "print(C,'farads (should be on the order of 10^-6)')\n"
   ]
  },
  {
   "cell_type": "code",
   "execution_count": 43,
   "metadata": {},
   "outputs": [
    {
     "data": {
      "text/plain": [
       "[<matplotlib.lines.Line2D at 0x7f8850026f60>]"
      ]
     },
     "execution_count": 43,
     "metadata": {},
     "output_type": "execute_result"
    },
    {
     "data": {
      "image/png": "[encoded data removed]",
      "text/plain": [
       "<Figure size 432x288 with 1 Axes>"
      ]
     },
     "metadata": {
      "needs_background": "light"
     },
     "output_type": "display_data"
    }
   ],
   "source": [
    "plt.plot(dt,lnv, 'ro') #uses matplotlib to plot voltage vs current"
   ]
  },
  {
   "cell_type": "markdown",
   "metadata": {},
   "source": [
    "The formula for calculating the percentage error is \n",
    "\n",
    "$$\n",
    "\\frac{C_{From your calculations} - C_{from Physlet}}{C_{from Physlet}}\n",
    "$$"
   ]
  },
  {
   "cell_type": "code",
   "execution_count": 47,
   "metadata": {},
   "outputs": [
    {
     "name": "stdout",
     "output_type": "stream",
     "text": [
      "24.923134159319325 % error\n"
     ]
    }
   ],
   "source": [
    "e1 = C - (2E-6)  \n",
    "e2 = e1 / abs(2E-6)\n",
    "error = e2 * 100\n",
    "print(error, '% error')"
   ]
  },
  {
   "cell_type": "code",
   "execution_count": null,
   "metadata": {},
   "outputs": [],
   "source": []
  },
  {
   "cell_type": "code",
   "execution_count": null,
   "metadata": {},
   "outputs": [],
   "source": []
  }
 ],
 "metadata": {
  "kernelspec": {
   "display_name": "Python 3",
   "language": "python",
   "name": "python3"
  },
  "language_info": {
   "codemirror_mode": {
    "name": "ipython",
    "version": 3
   },
   "file_extension": ".py",
   "mimetype": "text/x-python",
   "name": "python",
   "nbconvert_exporter": "python",
   "pygments_lexer": "ipython3",
   "version": "3.7.0"
  }
 },
 "nbformat": 4,
 "nbformat_minor": 2
}
